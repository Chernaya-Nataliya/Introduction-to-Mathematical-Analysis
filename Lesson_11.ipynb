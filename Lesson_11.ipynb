{
 "cells": [
  {
   "cell_type": "markdown",
   "metadata": {},
   "source": [
    "## Практические задания к лекции 11. Интеграл. Ряды. Часть 2\n",
    "\n",
    "[Ссылка на ДЗ](https://drive.google.com/file/d/185VRBkYTyRG1041vsOTQJ9RhjheZoy-G/view)"
   ]
  },
  {
   "cell_type": "code",
   "execution_count": 1,
   "metadata": {},
   "outputs": [
    {
     "data": {
      "text/markdown": [
       "### Задача 1"
      ],
      "text/plain": [
       "<IPython.core.display.Markdown object>"
      ]
     },
     "metadata": {},
     "output_type": "display_data"
    },
    {
     "data": {
      "text/markdown": [
       "Условие: $\\quad - y{\\left(x \\right)} + \\frac{d}{d x} y{\\left(x \\right)} = 2 x - 3$"
      ],
      "text/plain": [
       "<IPython.core.display.Markdown object>"
      ]
     },
     "metadata": {},
     "output_type": "display_data"
    },
    {
     "data": {
      "text/markdown": [
       "---"
      ],
      "text/plain": [
       "<IPython.core.display.Markdown object>"
      ]
     },
     "metadata": {},
     "output_type": "display_data"
    },
    {
     "data": {
      "text/markdown": [
       "Решение:"
      ],
      "text/plain": [
       "<IPython.core.display.Markdown object>"
      ]
     },
     "metadata": {},
     "output_type": "display_data"
    },
    {
     "data": {
      "text/markdown": [
       "1. Перепишем уравнение в виде:"
      ],
      "text/plain": [
       "<IPython.core.display.Markdown object>"
      ]
     },
     "metadata": {},
     "output_type": "display_data"
    },
    {
     "data": {
      "text/markdown": [
       "$\\quad \\frac{dy}{dx} - y = 2x - 3$"
      ],
      "text/plain": [
       "<IPython.core.display.Markdown object>"
      ]
     },
     "metadata": {},
     "output_type": "display_data"
    },
    {
     "data": {
      "text/markdown": [
       "2. Умножим обе части на $e^{-x}$:"
      ],
      "text/plain": [
       "<IPython.core.display.Markdown object>"
      ]
     },
     "metadata": {},
     "output_type": "display_data"
    },
    {
     "data": {
      "text/markdown": [
       "$\\quad e^{-x}\\frac{dy}{dx} - e^{-x}y = (2x - 3)e^{-x}$"
      ],
      "text/plain": [
       "<IPython.core.display.Markdown object>"
      ]
     },
     "metadata": {},
     "output_type": "display_data"
    },
    {
     "data": {
      "text/markdown": [
       "3. Левая часть - это производная от $ye^{-x}$:"
      ],
      "text/plain": [
       "<IPython.core.display.Markdown object>"
      ]
     },
     "metadata": {},
     "output_type": "display_data"
    },
    {
     "data": {
      "text/markdown": [
       "$\\quad \\frac{d}{dx}(ye^{-x}) = (2x - 3)e^{-x}$"
      ],
      "text/plain": [
       "<IPython.core.display.Markdown object>"
      ]
     },
     "metadata": {},
     "output_type": "display_data"
    },
    {
     "data": {
      "text/markdown": [
       "4. Интегрируем обе части:"
      ],
      "text/plain": [
       "<IPython.core.display.Markdown object>"
      ]
     },
     "metadata": {},
     "output_type": "display_data"
    },
    {
     "data": {
      "text/markdown": [
       "$\\quad ye^{-x} = \\int (2x - 3)e^{-x} dx = -2(x+1)e^{-x} + 3e^{-x} + C$"
      ],
      "text/plain": [
       "<IPython.core.display.Markdown object>"
      ]
     },
     "metadata": {},
     "output_type": "display_data"
    },
    {
     "data": {
      "text/markdown": [
       "5. Умножаем обе части на $e^x$:"
      ],
      "text/plain": [
       "<IPython.core.display.Markdown object>"
      ]
     },
     "metadata": {},
     "output_type": "display_data"
    },
    {
     "data": {
      "text/markdown": [
       "$\\quad y = -2(x+1) + 3 + Ce^x$"
      ],
      "text/plain": [
       "<IPython.core.display.Markdown object>"
      ]
     },
     "metadata": {},
     "output_type": "display_data"
    },
    {
     "data": {
      "text/markdown": [
       "Общее решение: $\\quad y{\\left(x \\right)} = C e^{x} - 2 x + 1$"
      ],
      "text/plain": [
       "<IPython.core.display.Markdown object>"
      ]
     },
     "metadata": {},
     "output_type": "display_data"
    }
   ],
   "source": [
    "import sympy as sym\n",
    "from IPython.display import Markdown, display\n",
    "\n",
    "def printmd(string):\n",
    "    display(Markdown(string))\n",
    "\n",
    "# ## Решить дифференциальные уравнения:\n",
    "\n",
    "printmd(\"### Задача 1\")\n",
    "\n",
    "# Используем метод разделения переменных вместо sympy.dsolve\n",
    "\n",
    "x = sym.Symbol('x')\n",
    "y = sym.Function('y')(x)\n",
    "\n",
    "equation = sym.Eq(y.diff(x) - y, 2*x - 3)\n",
    "printmd(f\"Условие: $\\quad {sym.latex(equation)}$\")\n",
    "printmd(\"---\")\n",
    "\n",
    "# Решение\n",
    "printmd(\"Решение:\")\n",
    "printmd(\"1. Перепишем уравнение в виде:\")\n",
    "printmd(\"$\\quad \\\\frac{dy}{dx} - y = 2x - 3$\")\n",
    "printmd(\"2. Умножим обе части на $e^{-x}$:\")\n",
    "printmd(\"$\\quad e^{-x}\\\\frac{dy}{dx} - e^{-x}y = (2x - 3)e^{-x}$\")\n",
    "printmd(\"3. Левая часть - это производная от $ye^{-x}$:\")\n",
    "printmd(\"$\\quad \\\\frac{d}{dx}(ye^{-x}) = (2x - 3)e^{-x}$\")\n",
    "printmd(\"4. Интегрируем обе части:\")\n",
    "printmd(\"$\\quad ye^{-x} = \\int (2x - 3)e^{-x} dx = -2(x+1)e^{-x} + 3e^{-x} + C$\")\n",
    "printmd(\"5. Умножаем обе части на $e^x$:\")\n",
    "printmd(\"$\\quad y = -2(x+1) + 3 + Ce^x$\")\n",
    "\n",
    "solution = sym.Eq(y, -2*x - 2 + 3 + sym.exp(x)*sym.Symbol('C'))\n",
    "printmd(f\"Общее решение: $\\quad {sym.latex(solution)}$\")\n",
    "\n"
   ]
  },
  {
   "cell_type": "code",
   "execution_count": 2,
   "metadata": {},
   "outputs": [
    {
     "data": {
      "text/markdown": [
       "### Задача 2"
      ],
      "text/plain": [
       "<IPython.core.display.Markdown object>"
      ]
     },
     "metadata": {},
     "output_type": "display_data"
    },
    {
     "data": {
      "text/markdown": [
       "Условие: $\\quad x^{2} \\frac{d}{d x} y{\\left(x \\right)} + x y{\\left(x \\right)} + 1 = 0$"
      ],
      "text/plain": [
       "<IPython.core.display.Markdown object>"
      ]
     },
     "metadata": {},
     "output_type": "display_data"
    },
    {
     "data": {
      "text/markdown": [
       "---"
      ],
      "text/plain": [
       "<IPython.core.display.Markdown object>"
      ]
     },
     "metadata": {},
     "output_type": "display_data"
    },
    {
     "data": {
      "text/markdown": [
       "Решение:"
      ],
      "text/plain": [
       "<IPython.core.display.Markdown object>"
      ]
     },
     "metadata": {},
     "output_type": "display_data"
    },
    {
     "data": {
      "text/markdown": [
       "1. Сделаем подстановку $y = vx^n$, где $n$ - неизвестный показатель степени."
      ],
      "text/plain": [
       "<IPython.core.display.Markdown object>"
      ]
     },
     "metadata": {},
     "output_type": "display_data"
    },
    {
     "data": {
      "text/markdown": [
       "2. Найдем производную: $\\frac{dy}{dx} = v'x^n + nvx^{n-1}$"
      ],
      "text/plain": [
       "<IPython.core.display.Markdown object>"
      ]
     },
     "metadata": {},
     "output_type": "display_data"
    },
    {
     "data": {
      "text/markdown": [
       "3. Подставим в исходное уравнение:"
      ],
      "text/plain": [
       "<IPython.core.display.Markdown object>"
      ]
     },
     "metadata": {},
     "output_type": "display_data"
    },
    {
     "data": {
      "text/markdown": [
       "$\\quad x^2(v'x^n + nvx^{n-1}) + x(vx^n) + 1 = 0$"
      ],
      "text/plain": [
       "<IPython.core.display.Markdown object>"
      ]
     },
     "metadata": {},
     "output_type": "display_data"
    },
    {
     "data": {
      "text/markdown": [
       "4. Упростим:"
      ],
      "text/plain": [
       "<IPython.core.display.Markdown object>"
      ]
     },
     "metadata": {},
     "output_type": "display_data"
    },
    {
     "data": {
      "text/markdown": [
       "$\\quad x^{n+2}v' + nx^{n+1}v + x^{n+1}v + 1 = 0$"
      ],
      "text/plain": [
       "<IPython.core.display.Markdown object>"
      ]
     },
     "metadata": {},
     "output_type": "display_data"
    },
    {
     "data": {
      "text/markdown": [
       "5. Выберем $n = -1$, чтобы избавиться от $x$ в последнем слагаемом:"
      ],
      "text/plain": [
       "<IPython.core.display.Markdown object>"
      ]
     },
     "metadata": {},
     "output_type": "display_data"
    },
    {
     "data": {
      "text/markdown": [
       "$\\quad xv' + v = 0$"
      ],
      "text/plain": [
       "<IPython.core.display.Markdown object>"
      ]
     },
     "metadata": {},
     "output_type": "display_data"
    },
    {
     "data": {
      "text/markdown": [
       "6. Это уравнение с разделяющимися переменными. Решим его:"
      ],
      "text/plain": [
       "<IPython.core.display.Markdown object>"
      ]
     },
     "metadata": {},
     "output_type": "display_data"
    },
    {
     "data": {
      "text/markdown": [
       "$\\quad \\frac{dv}{v} = -\\frac{dx}{x}$"
      ],
      "text/plain": [
       "<IPython.core.display.Markdown object>"
      ]
     },
     "metadata": {},
     "output_type": "display_data"
    },
    {
     "data": {
      "text/markdown": [
       "$\\quad \\ln|v| = -\\ln|x| + \\ln|C|$"
      ],
      "text/plain": [
       "<IPython.core.display.Markdown object>"
      ]
     },
     "metadata": {},
     "output_type": "display_data"
    },
    {
     "data": {
      "text/markdown": [
       "$\\quad v = \\frac{C}{x}$"
      ],
      "text/plain": [
       "<IPython.core.display.Markdown object>"
      ]
     },
     "metadata": {},
     "output_type": "display_data"
    },
    {
     "data": {
      "text/markdown": [
       "7. Вернемся к исходной функции $y$:"
      ],
      "text/plain": [
       "<IPython.core.display.Markdown object>"
      ]
     },
     "metadata": {},
     "output_type": "display_data"
    },
    {
     "data": {
      "text/markdown": [
       "$\\quad y = vx^n = \\frac{C}{x} \\cdot x^{-1} = \\frac{C}{x^2}$"
      ],
      "text/plain": [
       "<IPython.core.display.Markdown object>"
      ]
     },
     "metadata": {},
     "output_type": "display_data"
    },
    {
     "data": {
      "text/markdown": [
       "Общее решение: $\\quad y{\\left(x \\right)} = \\frac{C}{x^{2}}$"
      ],
      "text/plain": [
       "<IPython.core.display.Markdown object>"
      ]
     },
     "metadata": {},
     "output_type": "display_data"
    }
   ],
   "source": [
    "printmd(\"### Задача 2\")\n",
    "\n",
    "# Используем метод подстановки вместо sympy.dsolve\n",
    "\n",
    "equation = sym.Eq(x**2 * y.diff(x) + x*y + 1, 0)\n",
    "printmd(f\"Условие: $\\quad {sym.latex(equation)}$\")\n",
    "printmd(\"---\")\n",
    "\n",
    "printmd(\"Решение:\")\n",
    "printmd(\"1. Сделаем подстановку $y = vx^n$, где $n$ - неизвестный показатель степени.\")\n",
    "printmd(\"2. Найдем производную: $\\\\frac{dy}{dx} = v'x^n + nvx^{n-1}$\")\n",
    "printmd(\"3. Подставим в исходное уравнение:\")\n",
    "printmd(\"$\\quad x^2(v'x^n + nvx^{n-1}) + x(vx^n) + 1 = 0$\")\n",
    "printmd(\"4. Упростим:\")\n",
    "printmd(\"$\\quad x^{n+2}v' + nx^{n+1}v + x^{n+1}v + 1 = 0$\")\n",
    "printmd(\"5. Выберем $n = -1$, чтобы избавиться от $x$ в последнем слагаемом:\")\n",
    "printmd(\"$\\quad xv' + v = 0$\")\n",
    "printmd(\"6. Это уравнение с разделяющимися переменными. Решим его:\")\n",
    "printmd(\"$\\quad \\\\frac{dv}{v} = -\\\\frac{dx}{x}$\")\n",
    "printmd(\"$\\quad \\ln|v| = -\\ln|x| + \\ln|C|$\")\n",
    "printmd(\"$\\quad v = \\\\frac{C}{x}$\")\n",
    "printmd(\"7. Вернемся к исходной функции $y$:\")\n",
    "printmd(\"$\\quad y = vx^n = \\\\frac{C}{x} \\cdot x^{-1} = \\\\frac{C}{x^2}$\")\n",
    "\n",
    "solution = sym.Eq(y, sym.Symbol('C')/x**2)\n",
    "printmd(f\"Общее решение: $\\quad {sym.latex(solution)}$\")"
   ]
  },
  {
   "cell_type": "code",
   "execution_count": 3,
   "metadata": {},
   "outputs": [
    {
     "data": {
      "text/markdown": [
       "### Задача 1"
      ],
      "text/plain": [
       "<IPython.core.display.Markdown object>"
      ]
     },
     "metadata": {},
     "output_type": "display_data"
    },
    {
     "data": {
      "text/markdown": [
       "Ряд: $\\quad \\sum_{n=1}^{\\infty} \\frac{n + 2}{n^{2} + n + 1}$"
      ],
      "text/plain": [
       "<IPython.core.display.Markdown object>"
      ]
     },
     "metadata": {},
     "output_type": "display_data"
    },
    {
     "data": {
      "text/markdown": [
       "---"
      ],
      "text/plain": [
       "<IPython.core.display.Markdown object>"
      ]
     },
     "metadata": {},
     "output_type": "display_data"
    },
    {
     "data": {
      "text/markdown": [
       "Решение:"
      ],
      "text/plain": [
       "<IPython.core.display.Markdown object>"
      ]
     },
     "metadata": {},
     "output_type": "display_data"
    },
    {
     "data": {
      "text/markdown": [
       "1. Применим признак Даламбера:"
      ],
      "text/plain": [
       "<IPython.core.display.Markdown object>"
      ]
     },
     "metadata": {},
     "output_type": "display_data"
    },
    {
     "data": {
      "text/markdown": [
       "$\\quad \\lim_{n \\to \\infty} \\left|\\frac{a_{n+1}}{a_n}\\right| = 1$"
      ],
      "text/plain": [
       "<IPython.core.display.Markdown object>"
      ]
     },
     "metadata": {},
     "output_type": "display_data"
    },
    {
     "data": {
      "text/markdown": [
       "2. Предел равен 1, признак Даламбера не дает однозначного ответа."
      ],
      "text/plain": [
       "<IPython.core.display.Markdown object>"
      ]
     },
     "metadata": {},
     "output_type": "display_data"
    },
    {
     "data": {
      "text/markdown": [
       "3. Применим признак сравнения с гармоническим рядом:"
      ],
      "text/plain": [
       "<IPython.core.display.Markdown object>"
      ]
     },
     "metadata": {},
     "output_type": "display_data"
    },
    {
     "data": {
      "text/markdown": [
       "$\\quad \\frac{n + 2}{n^{2} + n + 1} \\sim \\frac{1}{n}$ при $n \\to \\infty$"
      ],
      "text/plain": [
       "<IPython.core.display.Markdown object>"
      ]
     },
     "metadata": {},
     "output_type": "display_data"
    },
    {
     "data": {
      "text/markdown": [
       "4. Так как ряд $\\sum \\frac{1}{n}$ расходится, исходный ряд также расходится."
      ],
      "text/plain": [
       "<IPython.core.display.Markdown object>"
      ]
     },
     "metadata": {},
     "output_type": "display_data"
    }
   ],
   "source": [
    "### Исследовать ряд на сходимость:\n",
    "\n",
    "printmd(\"### Задача 1\")\n",
    "\n",
    "# Используем признак Даламбера вместо исследования предела общего члена\n",
    "\n",
    "n = sym.Symbol('n')\n",
    "a_n = (n+2)/(n**2 + n + 1)\n",
    "\n",
    "printmd(f\"Ряд: $\\quad \\\\sum_{{n=1}}^{{\\\\infty}} {sym.latex(a_n)}$\")\n",
    "printmd(\"---\")\n",
    "\n",
    "printmd(\"Решение:\")\n",
    "printmd(\"1. Применим признак Даламбера:\")\n",
    "a_n1 = a_n.subs(n, n+1)\n",
    "limit = sym.limit(sym.Abs(a_n1 / a_n), n, sym.oo)\n",
    "\n",
    "printmd(f\"$\\quad \\\\lim_{{n \\\\to \\\\infty}} \\\\left|\\\\frac{{a_{{n+1}}}}{{a_n}}\\\\right| = {sym.latex(limit)}$\")\n",
    "\n",
    "if limit < 1:\n",
    "    printmd(\"2. Так как предел меньше 1, ряд сходится.\")\n",
    "elif limit > 1:\n",
    "    printmd(\"2. Так как предел больше 1, ряд расходится.\")\n",
    "else:\n",
    "    printmd(\"2. Предел равен 1, признак Даламбера не дает однозначного ответа.\")\n",
    "    printmd(\"3. Применим признак сравнения с гармоническим рядом:\")\n",
    "    printmd(f\"$\\quad {sym.latex(a_n)} \\\\sim \\\\frac{{1}}{{n}}$ при $n \\\\to \\\\infty$\")\n",
    "    printmd(\"4. Так как ряд $\\\\sum \\\\frac{1}{n}$ расходится, исходный ряд также расходится.\")"
   ]
  },
  {
   "cell_type": "code",
   "execution_count": 4,
   "metadata": {},
   "outputs": [
    {
     "data": {
      "text/markdown": [
       "### Задача 2"
      ],
      "text/plain": [
       "<IPython.core.display.Markdown object>"
      ]
     },
     "metadata": {},
     "output_type": "display_data"
    },
    {
     "data": {
      "text/markdown": [
       "Ряд: $\\quad \\sum_{n=1}^{\\infty} \\frac{n^{n}}{n!}$"
      ],
      "text/plain": [
       "<IPython.core.display.Markdown object>"
      ]
     },
     "metadata": {},
     "output_type": "display_data"
    },
    {
     "data": {
      "text/markdown": [
       "---"
      ],
      "text/plain": [
       "<IPython.core.display.Markdown object>"
      ]
     },
     "metadata": {},
     "output_type": "display_data"
    },
    {
     "data": {
      "text/markdown": [
       "Решение:"
      ],
      "text/plain": [
       "<IPython.core.display.Markdown object>"
      ]
     },
     "metadata": {},
     "output_type": "display_data"
    },
    {
     "data": {
      "text/markdown": [
       "1. Применим признак Даламбера (d'Alembert) для исследования сходимости ряда."
      ],
      "text/plain": [
       "<IPython.core.display.Markdown object>"
      ]
     },
     "metadata": {},
     "output_type": "display_data"
    },
    {
     "data": {
      "text/markdown": [
       "2. Вычислим отношение (n+1)-го члена к n-му:"
      ],
      "text/plain": [
       "<IPython.core.display.Markdown object>"
      ]
     },
     "metadata": {},
     "output_type": "display_data"
    },
    {
     "data": {
      "text/markdown": [
       "$\\frac{a_{n+1}}{a_n} = \\left(\\frac{n + 1}{n}\\right)^{n}$"
      ],
      "text/plain": [
       "<IPython.core.display.Markdown object>"
      ]
     },
     "metadata": {},
     "output_type": "display_data"
    },
    {
     "data": {
      "text/markdown": [
       "3. Вычислим предел этого отношения при n стремящемся к бесконечности:"
      ],
      "text/plain": [
       "<IPython.core.display.Markdown object>"
      ]
     },
     "metadata": {},
     "output_type": "display_data"
    },
    {
     "data": {
      "text/markdown": [
       "$\\lim_{n \\to \\infty} \\frac{a_{n+1}}{a_n} = e$"
      ],
      "text/plain": [
       "<IPython.core.display.Markdown object>"
      ]
     },
     "metadata": {},
     "output_type": "display_data"
    },
    {
     "data": {
      "text/markdown": [
       "4. Анализ результата:"
      ],
      "text/plain": [
       "<IPython.core.display.Markdown object>"
      ]
     },
     "metadata": {},
     "output_type": "display_data"
    },
    {
     "data": {
      "text/markdown": [
       "   Предел равен E, что больше 1, следовательно, ряд расходится."
      ],
      "text/plain": [
       "<IPython.core.display.Markdown object>"
      ]
     },
     "metadata": {},
     "output_type": "display_data"
    },
    {
     "data": {
      "text/markdown": [
       "5. Дополнительное исследование:"
      ],
      "text/plain": [
       "<IPython.core.display.Markdown object>"
      ]
     },
     "metadata": {},
     "output_type": "display_data"
    },
    {
     "data": {
      "text/markdown": [
       "   Используем формулу Стирлинга для приближения факториала:"
      ],
      "text/plain": [
       "<IPython.core.display.Markdown object>"
      ]
     },
     "metadata": {},
     "output_type": "display_data"
    },
    {
     "data": {
      "text/markdown": [
       "   $n! \\approx \\sqrt{2\\pi n} (\\frac{n}{e})^n$"
      ],
      "text/plain": [
       "<IPython.core.display.Markdown object>"
      ]
     },
     "metadata": {},
     "output_type": "display_data"
    },
    {
     "data": {
      "text/markdown": [
       "   Подставим это приближение в общий член ряда:"
      ],
      "text/plain": [
       "<IPython.core.display.Markdown object>"
      ]
     },
     "metadata": {},
     "output_type": "display_data"
    },
    {
     "data": {
      "text/markdown": [
       "$a_n \\approx \\frac{\\sqrt{2} n^{n} \\left(\\frac{n}{e}\\right)^{- n} e^{n}}{2 \\sqrt{\\pi} \\sqrt{n}}$"
      ],
      "text/plain": [
       "<IPython.core.display.Markdown object>"
      ]
     },
     "metadata": {},
     "output_type": "display_data"
    },
    {
     "data": {
      "text/markdown": [
       "$a_n \\approx \\frac{\\sqrt{2} e^{2 n}}{2 \\sqrt{\\pi} \\sqrt{n}}$"
      ],
      "text/plain": [
       "<IPython.core.display.Markdown object>"
      ]
     },
     "metadata": {},
     "output_type": "display_data"
    },
    {
     "data": {
      "text/markdown": [
       "$\\lim_{n \\to \\infty} a_n \\approx \\infty$"
      ],
      "text/plain": [
       "<IPython.core.display.Markdown object>"
      ]
     },
     "metadata": {},
     "output_type": "display_data"
    },
    {
     "data": {
      "text/markdown": [
       "Вывод:"
      ],
      "text/plain": [
       "<IPython.core.display.Markdown object>"
      ]
     },
     "metadata": {},
     "output_type": "display_data"
    },
    {
     "data": {
      "text/markdown": [
       "Ряд расходится, так как предел отношения соседних членов больше 1,"
      ],
      "text/plain": [
       "<IPython.core.display.Markdown object>"
      ]
     },
     "metadata": {},
     "output_type": "display_data"
    },
    {
     "data": {
      "text/markdown": [
       "и общий член ряда не стремится к нулю при n стремящемся к бесконечности."
      ],
      "text/plain": [
       "<IPython.core.display.Markdown object>"
      ]
     },
     "metadata": {},
     "output_type": "display_data"
    }
   ],
   "source": [
    "printmd(\"### Задача 2\")\n",
    "\n",
    "n = sym.Symbol('n', integer=True, positive=True)\n",
    "func = (n**n)/sym.factorial(n)\n",
    "\n",
    "printmd(f\"Ряд: $\\quad \\\\sum_{{n=1}}^{{\\\\infty}} {sym.latex(func)}$\")\n",
    "printmd(\"---\")\n",
    "\n",
    "printmd(\"Решение:\")\n",
    "printmd(\"1. Применим признак Даламбера (d'Alembert) для исследования сходимости ряда.\")\n",
    "printmd(\"2. Вычислим отношение (n+1)-го члена к n-му:\")\n",
    "\n",
    "a_n1 = func.subs(n, n+1)\n",
    "ratio = sym.simplify(a_n1 / func)\n",
    "printmd(f\"$\\\\frac{{a_{{n+1}}}}{{a_n}} = {sym.latex(ratio)}$\")\n",
    "\n",
    "printmd(\"3. Вычислим предел этого отношения при n стремящемся к бесконечности:\")\n",
    "\n",
    "limit = sym.limit(ratio, n, sym.oo)\n",
    "printmd(f\"$\\\\lim_{{n \\\\to \\\\infty}} \\\\frac{{a_{{n+1}}}}{{a_n}} = {sym.latex(limit)}$\")\n",
    "\n",
    "printmd(\"4. Анализ результата:\")\n",
    "if limit == sym.oo:\n",
    "    printmd(\"   Предел больше 1, следовательно, ряд расходится.\")\n",
    "elif limit < 1:\n",
    "    printmd(f\"   Предел меньше 1 (равен {limit}), следовательно, ряд сходится.\")\n",
    "elif limit == 1:\n",
    "    printmd(\"   Предел равен 1, признак Даламбера не дает однозначного ответа.\")\n",
    "    printmd(\"   Необходимо дополнительное исследование.\")\n",
    "else:\n",
    "    printmd(f\"   Предел равен {limit}, что больше 1, следовательно, ряд расходится.\")\n",
    "\n",
    "printmd(\"5. Дополнительное исследование:\")\n",
    "printmd(\"   Используем формулу Стирлинга для приближения факториала:\")\n",
    "printmd(\"   $n! \\\\approx \\\\sqrt{2\\\\pi n} (\\\\frac{n}{e})^n$\")\n",
    "printmd(\"   Подставим это приближение в общий член ряда:\")\n",
    "\n",
    "approx = (sym.E**n * n**n) / (sym.sqrt(2*sym.pi*n) * (n/sym.E)**n)\n",
    "printmd(f\"$a_n \\\\approx {sym.latex(approx)}$\")\n",
    "\n",
    "simplified_approx = sym.simplify(approx)\n",
    "printmd(f\"$a_n \\\\approx {sym.latex(simplified_approx)}$\")\n",
    "\n",
    "limit_approx = sym.limit(simplified_approx, n, sym.oo)\n",
    "printmd(f\"$\\\\lim_{{n \\\\to \\\\infty}} a_n \\\\approx {sym.latex(limit_approx)}$\")\n",
    "\n",
    "printmd(\"Вывод:\")\n",
    "printmd(\"Ряд расходится, так как предел отношения соседних членов больше 1,\")\n",
    "printmd(\"и общий член ряда не стремится к нулю при n стремящемся к бесконечности.\")"
   ]
  },
  {
   "cell_type": "code",
   "execution_count": 5,
   "metadata": {},
   "outputs": [
    {
     "data": {
      "text/markdown": [
       "### Задача 3"
      ],
      "text/plain": [
       "<IPython.core.display.Markdown object>"
      ]
     },
     "metadata": {},
     "output_type": "display_data"
    },
    {
     "data": {
      "text/markdown": [
       "Ряд: $\\quad \\sum_{n=1}^{\\infty} n \\left(1 - \\frac{1}{n}\\right)^{n^{2}}$"
      ],
      "text/plain": [
       "<IPython.core.display.Markdown object>"
      ]
     },
     "metadata": {},
     "output_type": "display_data"
    },
    {
     "data": {
      "text/markdown": [
       "---"
      ],
      "text/plain": [
       "<IPython.core.display.Markdown object>"
      ]
     },
     "metadata": {},
     "output_type": "display_data"
    },
    {
     "data": {
      "text/markdown": [
       "Решение:"
      ],
      "text/plain": [
       "<IPython.core.display.Markdown object>"
      ]
     },
     "metadata": {},
     "output_type": "display_data"
    },
    {
     "data": {
      "text/markdown": [
       "1. Сначала исследуем поведение общего члена ряда при n стремящемся к бесконечности."
      ],
      "text/plain": [
       "<IPython.core.display.Markdown object>"
      ]
     },
     "metadata": {},
     "output_type": "display_data"
    },
    {
     "data": {
      "text/markdown": [
       "2. Преобразуем выражение, используя предел:"
      ],
      "text/plain": [
       "<IPython.core.display.Markdown object>"
      ]
     },
     "metadata": {},
     "output_type": "display_data"
    },
    {
     "data": {
      "text/markdown": [
       "   $\\lim_{{n \\to \\infty}} (1 - \\frac{1}{n})^n = e^{-1}$"
      ],
      "text/plain": [
       "<IPython.core.display.Markdown object>"
      ]
     },
     "metadata": {},
     "output_type": "display_data"
    },
    {
     "data": {
      "text/markdown": [
       "3. Тогда можно записать:"
      ],
      "text/plain": [
       "<IPython.core.display.Markdown object>"
      ]
     },
     "metadata": {},
     "output_type": "display_data"
    },
    {
     "data": {
      "text/markdown": [
       "   $(1 - \\frac{1}{n})^{n^2} = ((1 - \\frac{1}{n})^n)^n \\approx (e^{-1})^n = e^{-n}$"
      ],
      "text/plain": [
       "<IPython.core.display.Markdown object>"
      ]
     },
     "metadata": {},
     "output_type": "display_data"
    },
    {
     "data": {
      "text/markdown": [
       "4. Таким образом, асимптотически наш ряд ведет себя как:"
      ],
      "text/plain": [
       "<IPython.core.display.Markdown object>"
      ]
     },
     "metadata": {},
     "output_type": "display_data"
    },
    {
     "data": {
      "text/markdown": [
       "   $a_n \\sim n \\cdot e^{-n}$"
      ],
      "text/plain": [
       "<IPython.core.display.Markdown object>"
      ]
     },
     "metadata": {},
     "output_type": "display_data"
    },
    {
     "data": {
      "text/markdown": [
       "5. Исследуем предел общего члена:"
      ],
      "text/plain": [
       "<IPython.core.display.Markdown object>"
      ]
     },
     "metadata": {},
     "output_type": "display_data"
    },
    {
     "data": {
      "text/markdown": [
       "$\\lim_{n \\to \\infty} a_n = 0$"
      ],
      "text/plain": [
       "<IPython.core.display.Markdown object>"
      ]
     },
     "metadata": {},
     "output_type": "display_data"
    },
    {
     "data": {
      "text/markdown": [
       "6. Так как предел общего члена равен 0, выполняется необходимое условие сходимости ряда."
      ],
      "text/plain": [
       "<IPython.core.display.Markdown object>"
      ]
     },
     "metadata": {},
     "output_type": "display_data"
    },
    {
     "data": {
      "text/markdown": [
       "   Однако это не гарантирует сходимость. Проведем дополнительное исследование."
      ],
      "text/plain": [
       "<IPython.core.display.Markdown object>"
      ]
     },
     "metadata": {},
     "output_type": "display_data"
    },
    {
     "data": {
      "text/markdown": [
       "7. Применим признак Даламбера:"
      ],
      "text/plain": [
       "<IPython.core.display.Markdown object>"
      ]
     },
     "metadata": {},
     "output_type": "display_data"
    },
    {
     "data": {
      "text/markdown": [
       "$\\frac{a_{n+1}}{a_n} = n^{n^{2} + \\left(n + 1\\right)^{2} - 1} \\left(n - 1\\right)^{- n^{2}} \\left(n + 1\\right)^{1 - \\left(n + 1\\right)^{2}}$"
      ],
      "text/plain": [
       "<IPython.core.display.Markdown object>"
      ]
     },
     "metadata": {},
     "output_type": "display_data"
    },
    {
     "data": {
      "text/markdown": [
       "$\\lim_{n \\to \\infty} \\frac{a_{n+1}}{a_n} = e^{-1}$"
      ],
      "text/plain": [
       "<IPython.core.display.Markdown object>"
      ]
     },
     "metadata": {},
     "output_type": "display_data"
    },
    {
     "data": {
      "text/markdown": [
       "8. Анализ результата:"
      ],
      "text/plain": [
       "<IPython.core.display.Markdown object>"
      ]
     },
     "metadata": {},
     "output_type": "display_data"
    },
    {
     "data": {
      "text/markdown": [
       "   Предел отношения соседних членов меньше 1 (равен exp(-1)), следовательно, ряд сходится."
      ],
      "text/plain": [
       "<IPython.core.display.Markdown object>"
      ]
     },
     "metadata": {},
     "output_type": "display_data"
    },
    {
     "data": {
      "text/markdown": [
       "9. Дополнительное исследование:"
      ],
      "text/plain": [
       "<IPython.core.display.Markdown object>"
      ]
     },
     "metadata": {},
     "output_type": "display_data"
    },
    {
     "data": {
      "text/markdown": [
       "   Используем асимптотическое представление $a_n \\sim n \\cdot e^{-n}$"
      ],
      "text/plain": [
       "<IPython.core.display.Markdown object>"
      ]
     },
     "metadata": {},
     "output_type": "display_data"
    },
    {
     "data": {
      "text/markdown": [
       "   и сравним с рядом $\\sum n \\cdot e^{-n}$, который является сходящимся."
      ],
      "text/plain": [
       "<IPython.core.display.Markdown object>"
      ]
     },
     "metadata": {},
     "output_type": "display_data"
    },
    {
     "data": {
      "text/markdown": [
       "Вывод:"
      ],
      "text/plain": [
       "<IPython.core.display.Markdown object>"
      ]
     },
     "metadata": {},
     "output_type": "display_data"
    },
    {
     "data": {
      "text/markdown": [
       "Исследуемый ряд сходится, так как:"
      ],
      "text/plain": [
       "<IPython.core.display.Markdown object>"
      ]
     },
     "metadata": {},
     "output_type": "display_data"
    },
    {
     "data": {
      "text/markdown": [
       "1) Общий член стремится к нулю при n стремящемся к бесконечности."
      ],
      "text/plain": [
       "<IPython.core.display.Markdown object>"
      ]
     },
     "metadata": {},
     "output_type": "display_data"
    },
    {
     "data": {
      "text/markdown": [
       "2) Предел отношения соседних членов меньше 1."
      ],
      "text/plain": [
       "<IPython.core.display.Markdown object>"
      ]
     },
     "metadata": {},
     "output_type": "display_data"
    },
    {
     "data": {
      "text/markdown": [
       "3) Ряд асимптотически эквивалентен сходящемуся ряду $\\sum n \\cdot e^{-n}$."
      ],
      "text/plain": [
       "<IPython.core.display.Markdown object>"
      ]
     },
     "metadata": {},
     "output_type": "display_data"
    }
   ],
   "source": [
    "printmd(\"### Задача 3\")\n",
    "\n",
    "n = sym.Symbol('n', integer=True, positive=True)\n",
    "func = n*(1 - 1/n)**(n**2)\n",
    "\n",
    "printmd(f\"Ряд: $\\quad \\\\sum_{{n=1}}^{{\\\\infty}} {sym.latex(func)}$\")\n",
    "printmd(\"---\")\n",
    "\n",
    "printmd(\"Решение:\")\n",
    "printmd(\"1. Сначала исследуем поведение общего члена ряда при n стремящемся к бесконечности.\")\n",
    "printmd(\"2. Преобразуем выражение, используя предел:\")\n",
    "printmd(\"   $\\\\lim_{{n \\\\to \\\\infty}} (1 - \\\\frac{1}{n})^n = e^{-1}$\")\n",
    "printmd(\"3. Тогда можно записать:\")\n",
    "printmd(\"   $(1 - \\\\frac{1}{n})^{n^2} = ((1 - \\\\frac{1}{n})^n)^n \\\\approx (e^{-1})^n = e^{-n}$\")\n",
    "printmd(\"4. Таким образом, асимптотически наш ряд ведет себя как:\")\n",
    "printmd(\"   $a_n \\\\sim n \\\\cdot e^{-n}$\")\n",
    "\n",
    "printmd(\"5. Исследуем предел общего члена:\")\n",
    "\n",
    "limit = sym.limit(func, n, sym.oo)\n",
    "printmd(f\"$\\\\lim_{{n \\\\to \\\\infty}} a_n = {sym.latex(limit)}$\")\n",
    "\n",
    "printmd(\"6. Так как предел общего члена равен 0, выполняется необходимое условие сходимости ряда.\")\n",
    "printmd(\"   Однако это не гарантирует сходимость. Проведем дополнительное исследование.\")\n",
    "\n",
    "printmd(\"7. Применим признак Даламбера:\")\n",
    "\n",
    "a_n1 = func.subs(n, n+1)\n",
    "ratio = sym.simplify(a_n1 / func)\n",
    "printmd(f\"$\\\\frac{{a_{{n+1}}}}{{a_n}} = {sym.latex(ratio)}$\")\n",
    "\n",
    "limit_ratio = sym.limit(ratio, n, sym.oo)\n",
    "printmd(f\"$\\\\lim_{{n \\\\to \\\\infty}} \\\\frac{{a_{{n+1}}}}{{a_n}} = {sym.latex(limit_ratio)}$\")\n",
    "\n",
    "printmd(\"8. Анализ результата:\")\n",
    "if limit_ratio < 1:\n",
    "    printmd(f\"   Предел отношения соседних членов меньше 1 (равен {limit_ratio}), следовательно, ряд сходится.\")\n",
    "elif limit_ratio > 1:\n",
    "    printmd(\"   Предел отношения соседних членов больше 1, следовательно, ряд расходится.\")\n",
    "elif limit_ratio == 1:\n",
    "    printmd(\"   Предел отношения соседних членов равен 1, признак Даламбера не дает однозначного ответа.\")\n",
    "    printmd(\"   Необходимо дополнительное исследование.\")\n",
    "else:\n",
    "    printmd(f\"   Предел отношения соседних членов равен {limit_ratio}. Требуется дополнительный анализ.\")\n",
    "\n",
    "printmd(\"9. Дополнительное исследование:\")\n",
    "printmd(\"   Используем асимптотическое представление $a_n \\\\sim n \\\\cdot e^{-n}$\")\n",
    "printmd(\"   и сравним с рядом $\\\\sum n \\\\cdot e^{-n}$, который является сходящимся.\")\n",
    "\n",
    "printmd(\"Вывод:\")\n",
    "printmd(\"Исследуемый ряд сходится, так как:\")\n",
    "printmd(\"1) Общий член стремится к нулю при n стремящемся к бесконечности.\")\n",
    "printmd(\"2) Предел отношения соседних членов меньше 1.\")\n",
    "printmd(\"3) Ряд асимптотически эквивалентен сходящемуся ряду $\\\\sum n \\\\cdot e^{-n}$.\")"
   ]
  },
  {
   "cell_type": "code",
   "execution_count": 6,
   "metadata": {},
   "outputs": [
    {
     "data": {
      "text/markdown": [
       "### Задача 4"
      ],
      "text/plain": [
       "<IPython.core.display.Markdown object>"
      ]
     },
     "metadata": {},
     "output_type": "display_data"
    },
    {
     "data": {
      "text/markdown": [
       "Ряд: $\\quad \\sum_{n=1}^{\\infty} \\frac{\\left(-1\\right)^{n + 1}}{2 n - \\log{\\left(n \\right)}}$"
      ],
      "text/plain": [
       "<IPython.core.display.Markdown object>"
      ]
     },
     "metadata": {},
     "output_type": "display_data"
    },
    {
     "data": {
      "text/markdown": [
       "---"
      ],
      "text/plain": [
       "<IPython.core.display.Markdown object>"
      ]
     },
     "metadata": {},
     "output_type": "display_data"
    },
    {
     "data": {
      "text/markdown": [
       "Решение:"
      ],
      "text/plain": [
       "<IPython.core.display.Markdown object>"
      ]
     },
     "metadata": {},
     "output_type": "display_data"
    },
    {
     "data": {
      "text/markdown": [
       "1. Этот ряд является знакочередующимся. Применим признак Лейбница."
      ],
      "text/plain": [
       "<IPython.core.display.Markdown object>"
      ]
     },
     "metadata": {},
     "output_type": "display_data"
    },
    {
     "data": {
      "text/markdown": [
       "2. Для применения признака Лейбница нужно проверить два условия:"
      ],
      "text/plain": [
       "<IPython.core.display.Markdown object>"
      ]
     },
     "metadata": {},
     "output_type": "display_data"
    },
    {
     "data": {
      "text/markdown": [
       "   a) Абсолютные значения членов ряда монотонно убывают"
      ],
      "text/plain": [
       "<IPython.core.display.Markdown object>"
      ]
     },
     "metadata": {},
     "output_type": "display_data"
    },
    {
     "data": {
      "text/markdown": [
       "   b) Предел общего члена равен нулю"
      ],
      "text/plain": [
       "<IPython.core.display.Markdown object>"
      ]
     },
     "metadata": {},
     "output_type": "display_data"
    },
    {
     "data": {
      "text/markdown": [
       "3. Проверим монотонное убывание абсолютных значений:"
      ],
      "text/plain": [
       "<IPython.core.display.Markdown object>"
      ]
     },
     "metadata": {},
     "output_type": "display_data"
    },
    {
     "data": {
      "text/markdown": [
       "Производная абсолютного значения: $\\frac{d}{dn}|a_n| = \\frac{-2 + \\frac{1}{n}}{\\left(2 n - \\log{\\left(n \\right)}\\right)^{2} \\operatorname{sign}{\\left(2 n - \\log{\\left(n \\right)} \\right)}}$"
      ],
      "text/plain": [
       "<IPython.core.display.Markdown object>"
      ]
     },
     "metadata": {},
     "output_type": "display_data"
    },
    {
     "data": {
      "text/markdown": [
       "Предел производной при n → ∞: 0"
      ],
      "text/plain": [
       "<IPython.core.display.Markdown object>"
      ]
     },
     "metadata": {},
     "output_type": "display_data"
    },
    {
     "data": {
      "text/markdown": [
       "Требуется дополнительное исследование монотонности."
      ],
      "text/plain": [
       "<IPython.core.display.Markdown object>"
      ]
     },
     "metadata": {},
     "output_type": "display_data"
    },
    {
     "data": {
      "text/markdown": [
       "4. Проверим, стремится ли общий член к нулю:"
      ],
      "text/plain": [
       "<IPython.core.display.Markdown object>"
      ]
     },
     "metadata": {},
     "output_type": "display_data"
    },
    {
     "data": {
      "text/markdown": [
       "$\\lim_{n \\to \\infty} |a_n| = 0$"
      ],
      "text/plain": [
       "<IPython.core.display.Markdown object>"
      ]
     },
     "metadata": {},
     "output_type": "display_data"
    },
    {
     "data": {
      "text/markdown": [
       "Общий член стремится к нулю."
      ],
      "text/plain": [
       "<IPython.core.display.Markdown object>"
      ]
     },
     "metadata": {},
     "output_type": "display_data"
    },
    {
     "data": {
      "text/markdown": [
       "5. Анализ результатов:"
      ],
      "text/plain": [
       "<IPython.core.display.Markdown object>"
      ]
     },
     "metadata": {},
     "output_type": "display_data"
    },
    {
     "data": {
      "text/markdown": [
       "Требуется дополнительное исследование."
      ],
      "text/plain": [
       "<IPython.core.display.Markdown object>"
      ]
     },
     "metadata": {},
     "output_type": "display_data"
    },
    {
     "data": {
      "text/markdown": [
       "6. Дополнительное исследование:"
      ],
      "text/plain": [
       "<IPython.core.display.Markdown object>"
      ]
     },
     "metadata": {},
     "output_type": "display_data"
    },
    {
     "data": {
      "text/markdown": [
       "   Рассмотрим асимптотическое поведение общего члена:"
      ],
      "text/plain": [
       "<IPython.core.display.Markdown object>"
      ]
     },
     "metadata": {},
     "output_type": "display_data"
    },
    {
     "data": {
      "text/markdown": [
       "$|a_n| \\sim \\frac{1}{2 n}$ при $n \\to \\infty$"
      ],
      "text/plain": [
       "<IPython.core.display.Markdown object>"
      ]
     },
     "metadata": {},
     "output_type": "display_data"
    },
    {
     "data": {
      "text/markdown": [
       "   Сравним с обобщенным гармоническим рядом $\\sum \\frac{{1}}{{n^p}}$:"
      ],
      "text/plain": [
       "<IPython.core.display.Markdown object>"
      ]
     },
     "metadata": {},
     "output_type": "display_data"
    },
    {
     "data": {
      "text/markdown": [
       "$p = \\lim_{n \\to \\infty} \\frac{\\log(1/|a_n|)}{\\log n} = 1$"
      ],
      "text/plain": [
       "<IPython.core.display.Markdown object>"
      ]
     },
     "metadata": {},
     "output_type": "display_data"
    },
    {
     "data": {
      "text/markdown": [
       "Вывод:"
      ],
      "text/plain": [
       "<IPython.core.display.Markdown object>"
      ]
     },
     "metadata": {},
     "output_type": "display_data"
    },
    {
     "data": {
      "text/markdown": [
       "Так как 0 < p = 1 ≤ 1, ряд из абсолютных значений расходится."
      ],
      "text/plain": [
       "<IPython.core.display.Markdown object>"
      ]
     },
     "metadata": {},
     "output_type": "display_data"
    },
    {
     "data": {
      "text/markdown": [
       "Но исходный знакочередующийся ряд сходится по признаку Лейбница."
      ],
      "text/plain": [
       "<IPython.core.display.Markdown object>"
      ]
     },
     "metadata": {},
     "output_type": "display_data"
    }
   ],
   "source": [
    "printmd(\"### Задача 4\")\n",
    "\n",
    "n = sym.Symbol('n', integer=True, positive=True)\n",
    "func = (-1)**(n+1)/(2*n - sym.ln(n))\n",
    "\n",
    "printmd(f\"Ряд: $\\quad \\\\sum_{{n=1}}^{{\\\\infty}} {sym.latex(func)}$\")\n",
    "printmd(\"---\")\n",
    "\n",
    "printmd(\"Решение:\")\n",
    "printmd(\"1. Этот ряд является знакочередующимся. Применим признак Лейбница.\")\n",
    "printmd(\"2. Для применения признака Лейбница нужно проверить два условия:\")\n",
    "printmd(\"   a) Абсолютные значения членов ряда монотонно убывают\")\n",
    "printmd(\"   b) Предел общего члена равен нулю\")\n",
    "\n",
    "printmd(\"3. Проверим монотонное убывание абсолютных значений:\")\n",
    "\n",
    "abs_func = sym.Abs(func)\n",
    "diff = sym.diff(abs_func, n)\n",
    "printmd(f\"Производная абсолютного значения: $\\\\frac{{d}}{{dn}}|a_n| = {sym.latex(diff)}$\")\n",
    "\n",
    "limit_diff = sym.limit(diff, n, sym.oo)\n",
    "printmd(f\"Предел производной при n → ∞: {sym.latex(limit_diff)}\")\n",
    "\n",
    "if limit_diff < 0:\n",
    "    printmd(\"Производная отрицательна при больших n, значит абсолютные значения убывают.\")\n",
    "else:\n",
    "    printmd(\"Требуется дополнительное исследование монотонности.\")\n",
    "\n",
    "printmd(\"4. Проверим, стремится ли общий член к нулю:\")\n",
    "\n",
    "limit = sym.limit(abs_func, n, sym.oo)\n",
    "printmd(f\"$\\\\lim_{{n \\\\to \\\\infty}} |a_n| = {sym.latex(limit)}$\")\n",
    "\n",
    "if limit == 0:\n",
    "    printmd(\"Общий член стремится к нулю.\")\n",
    "else:\n",
    "    printmd(\"Общий член не стремится к нулю, ряд расходится.\")\n",
    "\n",
    "printmd(\"5. Анализ результатов:\")\n",
    "if limit == 0 and limit_diff < 0:\n",
    "    printmd(\"Оба условия признака Лейбница выполнены, следовательно, ряд сходится.\")\n",
    "else:\n",
    "    printmd(\"Требуется дополнительное исследование.\")\n",
    "\n",
    "printmd(\"6. Дополнительное исследование:\")\n",
    "printmd(\"   Рассмотрим асимптотическое поведение общего члена:\")\n",
    "asymp = sym.series(abs_func, n, sym.oo, 2).removeO()\n",
    "printmd(f\"$|a_n| \\\\sim {sym.latex(asymp)}$ при $n \\\\to \\\\infty$\")\n",
    "\n",
    "printmd(\"   Сравним с обобщенным гармоническим рядом $\\\\sum \\\\frac{{1}}{{n^p}}$:\")\n",
    "p = sym.limit(sym.log(1/abs_func) / sym.log(n), n, sym.oo)\n",
    "printmd(f\"$p = \\\\lim_{{n \\\\to \\\\infty}} \\\\frac{{\\\\log(1/|a_n|)}}{{\\\\log n}} = {sym.latex(p)}$\")\n",
    "\n",
    "printmd(\"Вывод:\")\n",
    "if p > 1:\n",
    "    printmd(f\"Так как p = {p} > 1, ряд абсолютно сходится.\")\n",
    "    printmd(\"Следовательно, исходный знакочередующийся ряд также сходится.\")\n",
    "elif 0 < p <= 1:\n",
    "    printmd(f\"Так как 0 < p = {p} ≤ 1, ряд из абсолютных значений расходится.\")\n",
    "    printmd(\"Но исходный знакочередующийся ряд сходится по признаку Лейбница.\")\n",
    "else:\n",
    "    printmd(f\"p = {p} ≤ 0, ряд расходится.\")"
   ]
  },
  {
   "cell_type": "code",
   "execution_count": 8,
   "metadata": {},
   "outputs": [
    {
     "data": {
      "text/markdown": [
       "### Задача 5"
      ],
      "text/plain": [
       "<IPython.core.display.Markdown object>"
      ]
     },
     "metadata": {},
     "output_type": "display_data"
    },
    {
     "data": {
      "text/markdown": [
       "Ряд: $\\sum_{n=1}^{\\infty} \\frac{3^{- n} \\left(x - 2\\right)^{n + 1}}{n + 2}$"
      ],
      "text/plain": [
       "<IPython.core.display.Markdown object>"
      ]
     },
     "metadata": {},
     "output_type": "display_data"
    },
    {
     "data": {
      "text/markdown": [
       "---"
      ],
      "text/plain": [
       "<IPython.core.display.Markdown object>"
      ]
     },
     "metadata": {},
     "output_type": "display_data"
    },
    {
     "data": {
      "text/markdown": [
       "Решение:"
      ],
      "text/plain": [
       "<IPython.core.display.Markdown object>"
      ]
     },
     "metadata": {},
     "output_type": "display_data"
    },
    {
     "data": {
      "text/markdown": [
       "1. Для исследования сходимости степенного ряда найдем его радиус сходимости."
      ],
      "text/plain": [
       "<IPython.core.display.Markdown object>"
      ]
     },
     "metadata": {},
     "output_type": "display_data"
    },
    {
     "data": {
      "text/markdown": [
       "2. Используем формулу Коши-Адамара: $R = \\frac{1}{\\limsup_{n \\to \\infty} \\sqrt[n]{|a_n|}}$"
      ],
      "text/plain": [
       "<IPython.core.display.Markdown object>"
      ]
     },
     "metadata": {},
     "output_type": "display_data"
    },
    {
     "data": {
      "text/markdown": [
       "   где $a_n$ - коэффициенты ряда."
      ],
      "text/plain": [
       "<IPython.core.display.Markdown object>"
      ]
     },
     "metadata": {},
     "output_type": "display_data"
    },
    {
     "data": {
      "text/markdown": [
       "3. В нашем случае $a_n = \\frac{1}{3^n(n+2)}$, так как $(x-2)^{n+1}$ входит в определение ряда."
      ],
      "text/plain": [
       "<IPython.core.display.Markdown object>"
      ]
     },
     "metadata": {},
     "output_type": "display_data"
    },
    {
     "data": {
      "text/markdown": [
       "$\\limsup_{n \\to \\infty} \\sqrt[n]{|a_n|} = \\frac{1}{3}$"
      ],
      "text/plain": [
       "<IPython.core.display.Markdown object>"
      ]
     },
     "metadata": {},
     "output_type": "display_data"
    },
    {
     "data": {
      "text/markdown": [
       "Радиус сходимости: $R = 3$"
      ],
      "text/plain": [
       "<IPython.core.display.Markdown object>"
      ]
     },
     "metadata": {},
     "output_type": "display_data"
    },
    {
     "data": {
      "text/markdown": [
       "4. Исследуем сходимость на концах интервала:"
      ],
      "text/plain": [
       "<IPython.core.display.Markdown object>"
      ]
     },
     "metadata": {},
     "output_type": "display_data"
    },
    {
     "data": {
      "text/markdown": [
       "a) При x = 2 - 3:"
      ],
      "text/plain": [
       "<IPython.core.display.Markdown object>"
      ]
     },
     "metadata": {},
     "output_type": "display_data"
    },
    {
     "data": {
      "text/markdown": [
       "$\\lim_{n \\to \\infty} |a_n| = 0$"
      ],
      "text/plain": [
       "<IPython.core.display.Markdown object>"
      ]
     },
     "metadata": {},
     "output_type": "display_data"
    },
    {
     "data": {
      "text/markdown": [
       "Ряд сходится при x = -1, так как предел равен 0."
      ],
      "text/plain": [
       "<IPython.core.display.Markdown object>"
      ]
     },
     "metadata": {},
     "output_type": "display_data"
    },
    {
     "data": {
      "text/markdown": [
       "b) При x = 2 + 3:"
      ],
      "text/plain": [
       "<IPython.core.display.Markdown object>"
      ]
     },
     "metadata": {},
     "output_type": "display_data"
    },
    {
     "data": {
      "text/markdown": [
       "$\\lim_{n \\to \\infty} |a_n| = 0$"
      ],
      "text/plain": [
       "<IPython.core.display.Markdown object>"
      ]
     },
     "metadata": {},
     "output_type": "display_data"
    },
    {
     "data": {
      "text/markdown": [
       "Ряд сходится при x = 5, так как предел равен 0."
      ],
      "text/plain": [
       "<IPython.core.display.Markdown object>"
      ]
     },
     "metadata": {},
     "output_type": "display_data"
    },
    {
     "data": {
      "text/markdown": [
       "Вывод:"
      ],
      "text/plain": [
       "<IPython.core.display.Markdown object>"
      ]
     },
     "metadata": {},
     "output_type": "display_data"
    },
    {
     "data": {
      "text/markdown": [
       "1. Радиус сходимости ряда R = 3"
      ],
      "text/plain": [
       "<IPython.core.display.Markdown object>"
      ]
     },
     "metadata": {},
     "output_type": "display_data"
    },
    {
     "data": {
      "text/markdown": [
       "2. Интервал сходимости: (-1, 5)"
      ],
      "text/plain": [
       "<IPython.core.display.Markdown object>"
      ]
     },
     "metadata": {},
     "output_type": "display_data"
    },
    {
     "data": {
      "text/markdown": [
       "3. Ряд сходится в левой граничной точке x = -1"
      ],
      "text/plain": [
       "<IPython.core.display.Markdown object>"
      ]
     },
     "metadata": {},
     "output_type": "display_data"
    },
    {
     "data": {
      "text/markdown": [
       "4. Ряд сходится в правой граничной точке x = 5"
      ],
      "text/plain": [
       "<IPython.core.display.Markdown object>"
      ]
     },
     "metadata": {},
     "output_type": "display_data"
    },
    {
     "data": {
      "text/markdown": [
       "Таким образом, область сходимости ряда: [-1, 5]"
      ],
      "text/plain": [
       "<IPython.core.display.Markdown object>"
      ]
     },
     "metadata": {},
     "output_type": "display_data"
    }
   ],
   "source": [
    "printmd(\"### Задача 5\")\n",
    "\n",
    "n, x = sym.symbols('n x')\n",
    "func = (x-2)**(n+1)/((3**n)*(n+2))\n",
    "\n",
    "printmd(\"Ряд: $\\\\sum_{{n=1}}^{{\\\\infty}} {}$\".format(sym.latex(func)))\n",
    "printmd(\"---\")\n",
    "\n",
    "printmd(\"Решение:\")\n",
    "printmd(\"1. Для исследования сходимости степенного ряда найдем его радиус сходимости.\")\n",
    "printmd(\"2. Используем формулу Коши-Адамара: $R = \\\\frac{1}{\\\\limsup_{n \\\\to \\\\infty} \\\\sqrt[n]{|a_n|}}$\")\n",
    "printmd(\"   где $a_n$ - коэффициенты ряда.\")\n",
    "\n",
    "printmd(\"3. В нашем случае $a_n = \\\\frac{1}{3^n(n+2)}$, так как $(x-2)^{n+1}$ входит в определение ряда.\")\n",
    "\n",
    "a_n = 1 / (3**n * (n+2))\n",
    "root = sym.root(sym.Abs(a_n), n)\n",
    "limit = sym.limit(root, n, sym.oo)\n",
    "\n",
    "printmd(\"$\\\\limsup_{{n \\\\to \\\\infty}} \\\\sqrt[n]{{|a_n|}} = {}$\".format(sym.latex(limit)))\n",
    "\n",
    "R = 1 / limit\n",
    "printmd(\"Радиус сходимости: $R = {}$\".format(sym.latex(R)))\n",
    "\n",
    "printmd(\"4. Исследуем сходимость на концах интервала:\")\n",
    "\n",
    "printmd(\"a) При x = 2 - 3:\")\n",
    "x_left = 2 - 3\n",
    "series_left = func.subs(x, x_left)\n",
    "limit_left = sym.limit(sym.Abs(series_left), n, sym.oo)\n",
    "printmd(\"$\\\\lim_{{n \\\\to \\\\infty}} |a_n| = {}$\".format(sym.latex(limit_left)))\n",
    "\n",
    "\n",
    "printmd(\"Ряд сходится при x = -1, так как предел равен 0.\")\n",
    "\n",
    "printmd(\"b) При x = 2 + 3:\")\n",
    "x_right = 2 + 3\n",
    "series_right = func.subs(x, x_right)\n",
    "limit_right = sym.limit(sym.Abs(series_right), n, sym.oo)\n",
    "printmd(\"$\\\\lim_{{n \\\\to \\\\infty}} |a_n| = {}$\".format(sym.latex(limit_right)))\n",
    "\n",
    "printmd(\"Ряд сходится при x = 5, так как предел равен 0.\")\n",
    "\n",
    "printmd(\"Вывод:\")\n",
    "printmd(\"1. Радиус сходимости ряда R = {}\".format(sym.latex(R)))\n",
    "printmd(\"2. Интервал сходимости: (-1, 5)\")\n",
    "printmd(\"3. Ряд сходится в левой граничной точке x = -1\")\n",
    "printmd(\"4. Ряд сходится в правой граничной точке x = 5\")\n",
    "printmd(\"Таким образом, область сходимости ряда: [-1, 5]\")"
   ]
  }
 ],
 "metadata": {
  "kernelspec": {
   "display_name": "Python 3",
   "language": "python",
   "name": "python3"
  },
  "language_info": {
   "codemirror_mode": {
    "name": "ipython",
    "version": 3
   },
   "file_extension": ".py",
   "mimetype": "text/x-python",
   "name": "python",
   "nbconvert_exporter": "python",
   "pygments_lexer": "ipython3",
   "version": "3.11.4"
  }
 },
 "nbformat": 4,
 "nbformat_minor": 2
}
